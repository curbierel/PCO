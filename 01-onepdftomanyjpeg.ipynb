{
 "cells": [
  {
   "cell_type": "markdown",
   "id": "1ab1e4c5",
   "metadata": {},
   "source": [
    "### Récupération des pdf et transfomation en images"
   ]
  },
  {
   "cell_type": "code",
   "execution_count": 2,
   "id": "e22b5bfd-14b2-473e-88cc-d04008d7e96b",
   "metadata": {},
   "outputs": [],
   "source": [
    "import pandas as pd\n",
    "from os import listdir, chdir\n",
    "from os.path import isfile, join\n",
    "import numpy as np"
   ]
  },
  {
   "cell_type": "code",
   "execution_count": 8,
   "id": "2146392d-c5a5-4696-acb8-64a15fdf1bff",
   "metadata": {},
   "outputs": [],
   "source": [
    "# On se place dans le répertoire du projet\n",
    "chdir('C:/Users/utilisateur/Documents/PCO')\n",
    "fichiersSC = [f for f in listdir(\"SimontheCat\") if isfile(join(\"SimontheCat\", f))]\n",
    "fichiersLC = [f for f in listdir(\"Le Chat\") if isfile(join(\"Le Chat\", f))]"
   ]
  },
  {
   "cell_type": "code",
   "execution_count": 9,
   "id": "20496c93-6ddb-4409-b8b5-fe65a1d072cb",
   "metadata": {},
   "outputs": [
    {
     "data": {
      "text/plain": [
       "['Simons_Cat_-_Simon_Tofield.pdf',\n",
       " 'The_Bumper_Book_of_Simons_Cat_-_Simon_Tofield.pdf']"
      ]
     },
     "metadata": {},
     "output_type": "display_data"
    },
    {
     "data": {
      "text/plain": [
       "['Tome 10 - Le Chat Est Content.pdf',\n",
       " \"Tome 11 - L'Affaire Le Chat.pdf\",\n",
       " 'Tome 12 - Et vous, Chat Va.pdf',\n",
       " 'Tome 13 - Le Chat  Encore Frapp‚.pdf',\n",
       " 'Tome 14 - La Marque Du Chat.pdf',\n",
       " 'Tome 15 - Une Vie De Chat.pdf',\n",
       " 'Tome 2 - Le Retour Du Chat.pdf',\n",
       " 'Tome 3 - La Vengeance Du Chat.pdf',\n",
       " 'Tome 4 - Le Quatri確e Chat.pdf',\n",
       " 'Tome 5 - Le Chat Au Congo.pdf',\n",
       " 'Tome 6 - Ma Langue Au Chat.pdf',\n",
       " 'Tome 7 - Le Chat A Malibu.pdf',\n",
       " 'Tome 8 - Le Chat 1999,9999.pdf',\n",
       " \"Tome 9 - L'Avenir Du Chat.pdf\",\n",
       " 'TTome 1  - Le Chat.pdf']"
      ]
     },
     "metadata": {},
     "output_type": "display_data"
    }
   ],
   "source": [
    "display(fichiersSC);display(fichiersLC)"
   ]
  },
  {
   "cell_type": "raw",
   "id": "aaa5a938-4e20-43a7-b9c4-a28ff6d34102",
   "metadata": {},
   "source": [
    "# Cette partie de code permet de créer un fichier pdf par page \n",
    "# Pas utiliser dans cette version\n",
    "from PyPDF2 import PdfFileWriter, PdfFileReader\n",
    "mi=0\n",
    "chdir('C:/Users/utilisateur/Documents/PCO/datapdf')\n",
    "for livre in fichiers:\n",
    "    inputpdf = PdfFileReader(open(\"../Le Chat/\"+str(livre), \"rb\"))\n",
    "    for i in range(2,inputpdf.numPages-1):\n",
    "        output = PdfFileWriter()\n",
    "        output.addPage(inputpdf.getPage(i))\n",
    "        with open(\"page%s.pdf\" % (i+mi), \"wb\") as outputStream:\n",
    "            output.write(outputStream)\n",
    "    mi+=inputpdf.numPages-1"
   ]
  },
  {
   "cell_type": "code",
   "execution_count": 13,
   "id": "ad04f5d6-1b32-44b1-be86-c782455332e9",
   "metadata": {},
   "outputs": [],
   "source": [
    "from pdf2image import convert_from_path\n",
    "chdir('C:/Users/utilisateur/Documents/PCO/SimontheCat')\n",
    "i=0\n",
    "fichiers = [f for f in listdir(\"C:/Users/utilisateur/Documents/PCO/SimontheCat/\") if isfile(join(\"C:/Users/utilisateur/Documents/PCO/SimontheCat/\", f))]\n",
    "for livre in fichiers:\n",
    "    pages = convert_from_path(\"C:/Users/utilisateur/Documents/PCO/SimontheCat/\"+livre, dpi=200)\n",
    "    for idx,page in enumerate(pages):\n",
    "        page.save('C:/Users/utilisateur/Documents/PCO/dataJPEG/page'+str(idx+i)+'.jpg', 'JPEG')\n",
    "        i+=1"
   ]
  },
  {
   "cell_type": "markdown",
   "id": "557b20ba-2194-4625-ad52-0e2f02af7966",
   "metadata": {},
   "source": [
    "___"
   ]
  },
  {
   "cell_type": "code",
   "execution_count": null,
   "id": "ea120f1e-d423-49cb-877b-4b98eca9a13a",
   "metadata": {},
   "outputs": [],
   "source": []
  }
 ],
 "metadata": {
  "kernelspec": {
   "display_name": "Python 3",
   "language": "python",
   "name": "python3"
  },
  "language_info": {
   "codemirror_mode": {
    "name": "ipython",
    "version": 3
   },
   "file_extension": ".py",
   "mimetype": "text/x-python",
   "name": "python",
   "nbconvert_exporter": "python",
   "pygments_lexer": "ipython3",
   "version": "3.7.10"
  }
 },
 "nbformat": 4,
 "nbformat_minor": 5
}
