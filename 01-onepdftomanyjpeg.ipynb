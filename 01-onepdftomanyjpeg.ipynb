{
 "cells": [
  {
   "cell_type": "markdown",
   "id": "1ab1e4c5",
   "metadata": {},
   "source": [
    "### Récupération des pdf et transfomation en images"
   ]
  },
  {
   "cell_type": "code",
   "execution_count": 4,
   "id": "e22b5bfd-14b2-473e-88cc-d04008d7e96b",
   "metadata": {},
   "outputs": [],
   "source": [
    "import pandas as pd\n",
    "from os import listdir, chdir\n",
    "from os.path import isfile, join\n",
    "import numpy as np"
   ]
  },
  {
   "cell_type": "code",
   "execution_count": 5,
   "id": "2146392d-c5a5-4696-acb8-64a15fdf1bff",
   "metadata": {},
   "outputs": [],
   "source": [
    "# On se place dans le répertoire du projet\n",
    "chdir('C:/Users/utilisateur/Documents/PCO')\n",
    "fichiers = [f for f in listdir(\"Le Chat\") if isfile(join(\"Le Chat\", f))]"
   ]
  },
  {
   "cell_type": "code",
   "execution_count": 3,
   "id": "db6426f9-c639-4005-b29f-ae281230c5fa",
   "metadata": {},
   "outputs": [],
   "source": [
    "# Cette partie de code permet de créer un fichier pdf par page \n",
    "# Pas utiliser dans cette version\n",
    "from PyPDF2 import PdfFileWriter, PdfFileReader\n",
    "mi=0\n",
    "chdir('C:/Users/utilisateur/Documents/PCO/datapdf')\n",
    "for livre in fichiers:\n",
    "    inputpdf = PdfFileReader(open(\"../Le Chat/\"+str(livre), \"rb\"))\n",
    "    for i in range(2,inputpdf.numPages-1):\n",
    "        output = PdfFileWriter()\n",
    "        output.addPage(inputpdf.getPage(i))\n",
    "        with open(\"page%s.pdf\" % (i+mi), \"wb\") as outputStream:\n",
    "            output.write(outputStream)\n",
    "    mi+=inputpdf.numPages-1"
   ]
  },
  {
   "cell_type": "code",
   "execution_count": 6,
   "id": "ad04f5d6-1b32-44b1-be86-c782455332e9",
   "metadata": {},
   "outputs": [],
   "source": [
    "from pdf2image import convert_from_path\n",
    "chdir('C:/Users/utilisateur/Documents/PCO/datapdf')\n",
    "i=0\n",
    "fichiers = [f for f in listdir(\"C:/Users/utilisateur/Documents/PCO/datapdf\") if isfile(join(\"C:/Users/utilisateur/Documents/PCO/datapdf\", f))]\n",
    "for livre in fichiers:\n",
    "    pages = convert_from_path('C:/Users/utilisateur/Documents/PCO/datapdf/'+livre, dpi=200)\n",
    "    for idx,page in enumerate(pages):\n",
    "        page.save('C:/Users/utilisateur/Documents/PCO/dataJPEG/page'+str(idx+i)+'.jpg', 'JPEG')\n",
    "        i+=1"
   ]
  },
  {
   "cell_type": "markdown",
   "id": "557b20ba-2194-4625-ad52-0e2f02af7966",
   "metadata": {},
   "source": [
    "___"
   ]
  }
 ],
 "metadata": {
  "kernelspec": {
   "display_name": "Python 3",
   "language": "python",
   "name": "python3"
  },
  "language_info": {
   "codemirror_mode": {
    "name": "ipython",
    "version": 3
   },
   "file_extension": ".py",
   "mimetype": "text/x-python",
   "name": "python",
   "nbconvert_exporter": "python",
   "pygments_lexer": "ipython3",
   "version": "3.7.10"
  }
 },
 "nbformat": 4,
 "nbformat_minor": 5
}
