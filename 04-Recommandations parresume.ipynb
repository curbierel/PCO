{
 "cells": [
  {
   "cell_type": "code",
   "execution_count": 14,
   "id": "5816e033-69e8-44a4-8fe3-483d5f5a9ab3",
   "metadata": {},
   "outputs": [],
   "source": [
    "import pandas as pd\n",
    "import numpy as np\n",
    "import matplotlib.pyplot as plt\n",
    "import ast\n",
    "import re\n",
    "import os"
   ]
  },
  {
   "cell_type": "code",
   "execution_count": 15,
   "id": "fa866724-b1f0-48cf-96d3-0319b973f9a5",
   "metadata": {},
   "outputs": [],
   "source": [
    "from sklearn.metrics.pairwise import cosine_similarity\n",
    "from sklearn.feature_extraction.text import CountVectorizer\n",
    "from sklearn.metrics.pairwise import linear_kernel\n",
    "from sklearn.metrics import confusion_matrix"
   ]
  },
  {
   "cell_type": "code",
   "execution_count": 16,
   "id": "e23e2e9c-7714-48c2-9287-5d71edcddbcb",
   "metadata": {},
   "outputs": [],
   "source": [
    "df=pd.read_csv('CSV_TMP/BBD75.csv', sep=',',dtype='object', usecols = [3,5])\n",
    "#df.head(1000)"
   ]
  },
  {
   "cell_type": "code",
   "execution_count": 17,
   "id": "be79becf-4787-474c-896b-dfa1672bc915",
   "metadata": {},
   "outputs": [],
   "source": [
    "def get_title(index):\n",
    "    return df[df.index == index][\"Titre\"].values[0]\n",
    "def get_index(title):\n",
    "    return df[df.Titre == title][\"index\"].values[0]\n",
    "df['index'] = [i for i in range(0, len(df))]"
   ]
  },
  {
   "cell_type": "code",
   "execution_count": 18,
   "id": "e20b2b9c-19a3-4174-8794-62de7e85967b",
   "metadata": {},
   "outputs": [],
   "source": [
    "indexNames = df[( df['Titre'] == '0')].index\n",
    "# Delete these row indexes from dataFrame\n",
    "df.drop(indexNames , inplace=True)\n",
    "indexNames = df[( df['Titre'] == 0)].index\n",
    "# Delete these row indexes from dataFrame\n",
    "df.drop(indexNames , inplace=True)"
   ]
  },
  {
   "cell_type": "code",
   "execution_count": 19,
   "id": "b95b2f21-f7ab-45ac-ba9e-c98b44d11210",
   "metadata": {},
   "outputs": [],
   "source": [
    "def replace(texte):\n",
    "    new_string=texte.replace(\"\\\\t\",\"\")\n",
    "    new_string=new_string.replace(\"\\\\n\",\"\")\n",
    "    new_string=new_string.replace(\"<br/>\",\"\")\n",
    "    new_string=new_string.replace(\"/p\",\"\")\n",
    "    new_string=new_string.replace('<p class=\"footer\" style=\"clear:both;border:0px;\">','')\n",
    "    new_string=new_string.replace(\"<>\",\"\")\n",
    "    return new_string"
   ]
  },
  {
   "cell_type": "code",
   "execution_count": 20,
   "id": "ce10123b-9fe8-4dcf-8cfd-fa3858f9214b",
   "metadata": {
    "tags": []
   },
   "outputs": [],
   "source": [
    "df['Resume']=df['Resume'].apply(replace)"
   ]
  },
  {
   "cell_type": "code",
   "execution_count": 21,
   "id": "7744b3ec-6e0b-4b35-b490-42cd696b8586",
   "metadata": {
    "tags": []
   },
   "outputs": [
    {
     "data": {
      "text/html": [
       "<div>\n",
       "<style scoped>\n",
       "    .dataframe tbody tr th:only-of-type {\n",
       "        vertical-align: middle;\n",
       "    }\n",
       "\n",
       "    .dataframe tbody tr th {\n",
       "        vertical-align: top;\n",
       "    }\n",
       "\n",
       "    .dataframe thead th {\n",
       "        text-align: right;\n",
       "    }\n",
       "</style>\n",
       "<table border=\"1\" class=\"dataframe\">\n",
       "  <thead>\n",
       "    <tr style=\"text-align: right;\">\n",
       "      <th></th>\n",
       "      <th>Titre</th>\n",
       "      <th>Resume</th>\n",
       "      <th>index</th>\n",
       "    </tr>\n",
       "  </thead>\n",
       "  <tbody>\n",
       "    <tr>\n",
       "      <th>0</th>\n",
       "      <td>Les Aventures de Tintin, tome 03 : Tintin en A...</td>\n",
       "      <td>['Dans \"Tintin en Amérique\" (1932), le héros c...</td>\n",
       "      <td>0</td>\n",
       "    </tr>\n",
       "    <tr>\n",
       "      <th>1</th>\n",
       "      <td>Les Aventures de Tintin, tome 11 : Le Secret d...</td>\n",
       "      <td>[\"Dans cette aventure, Tintin accompagne le Ca...</td>\n",
       "      <td>1</td>\n",
       "    </tr>\n",
       "    <tr>\n",
       "      <th>2</th>\n",
       "      <td>Les Aventures de Tintin, tome 17 : On a marché...</td>\n",
       "      <td>['La fusée a décollé de Syldavie, emportant Ti...</td>\n",
       "      <td>2</td>\n",
       "    </tr>\n",
       "    <tr>\n",
       "      <th>3</th>\n",
       "      <td>Les aventures de Tintin, Tome 6 : L'Oreille ca...</td>\n",
       "      <td>[\"Afin de récupérer un fétiche volé, Tintin s'...</td>\n",
       "      <td>3</td>\n",
       "    </tr>\n",
       "    <tr>\n",
       "      <th>4</th>\n",
       "      <td>Les aventures de Tintin, tome 16 : Objectif lune</td>\n",
       "      <td>['De retour de voyage, Tintin et le capitaine ...</td>\n",
       "      <td>4</td>\n",
       "    </tr>\n",
       "    <tr>\n",
       "      <th>5</th>\n",
       "      <td>Les Aventures de Tintin, tome 12 : Le Trésor d...</td>\n",
       "      <td>['Dans Le Secret de la Licorne (1943) et Le Tr...</td>\n",
       "      <td>5</td>\n",
       "    </tr>\n",
       "    <tr>\n",
       "      <th>6</th>\n",
       "      <td>Les Aventures de Tintin, tome 04 : Les Cigares...</td>\n",
       "      <td>[\"Alors qu'il est en croisière sur un paquebot...</td>\n",
       "      <td>6</td>\n",
       "    </tr>\n",
       "    <tr>\n",
       "      <th>7</th>\n",
       "      <td>Les Aventures de Tintin, tome 07 : L'Île Noire</td>\n",
       "      <td>['Un mystérieux avion met Tintin, pour la prem...</td>\n",
       "      <td>7</td>\n",
       "    </tr>\n",
       "    <tr>\n",
       "      <th>8</th>\n",
       "      <td>Les Aventures de Tintin, tome 05 : Le Lotus bleu</td>\n",
       "      <td>[\"Poursuivant jusqu'en Chine les trafiquants r...</td>\n",
       "      <td>8</td>\n",
       "    </tr>\n",
       "    <tr>\n",
       "      <th>9</th>\n",
       "      <td>Astérix, tome 20 : Astérix en Corse</td>\n",
       "      <td>[\"Nous sommes en 50 avant Jésus-Christ ; toute...</td>\n",
       "      <td>9</td>\n",
       "    </tr>\n",
       "    <tr>\n",
       "      <th>10</th>\n",
       "      <td>Astérix, tome 1 : Astérix le gaulois</td>\n",
       "      <td>['Premier tome des aventures d\\'Astérix, l\\'al...</td>\n",
       "      <td>10</td>\n",
       "    </tr>\n",
       "    <tr>\n",
       "      <th>11</th>\n",
       "      <td>Les aventures de Tintin, tome 22 : Vol 714 pou...</td>\n",
       "      <td>[\"Dans cette nouvelle aventure, nous retrouvon...</td>\n",
       "      <td>11</td>\n",
       "    </tr>\n",
       "    <tr>\n",
       "      <th>12</th>\n",
       "      <td>Les aventures de Tintin, tome 19 : Coke en stock</td>\n",
       "      <td>[\"Dans l'album Coke en stock (1958), le lecteu...</td>\n",
       "      <td>12</td>\n",
       "    </tr>\n",
       "    <tr>\n",
       "      <th>13</th>\n",
       "      <td>Astérix, tome 6 : Astérix et Cléopâtre</td>\n",
       "      <td>[\"Nous sommes en 50 avant Jésus-Christ ; toute...</td>\n",
       "      <td>13</td>\n",
       "    </tr>\n",
       "    <tr>\n",
       "      <th>14</th>\n",
       "      <td>Les aventures de Tintin, tome 20 : Tintin au T...</td>\n",
       "      <td>[\"En vacances dans les Alpes, Tintin reçoit un...</td>\n",
       "      <td>14</td>\n",
       "    </tr>\n",
       "    <tr>\n",
       "      <th>15</th>\n",
       "      <td>Les Aventures de Tintin, tome 02 : Tintin au C...</td>\n",
       "      <td>['Le 10 janvier 1929, un jeune reporter fait s...</td>\n",
       "      <td>15</td>\n",
       "    </tr>\n",
       "    <tr>\n",
       "      <th>16</th>\n",
       "      <td>Les Aventures de Tintin, tome 08 : Le Sceptre ...</td>\n",
       "      <td>['Tintin accompagne en Syldavie le professeur ...</td>\n",
       "      <td>16</td>\n",
       "    </tr>\n",
       "    <tr>\n",
       "      <th>17</th>\n",
       "      <td>Les Aventures de Tintin, tome 9 : Le Crabe aux...</td>\n",
       "      <td>['\"Le Crabe aux pinces d\\'or\" (1941) renoue av...</td>\n",
       "      <td>17</td>\n",
       "    </tr>\n",
       "    <tr>\n",
       "      <th>18</th>\n",
       "      <td>Les aventures de Tintin, tome 18 : L'Affaire T...</td>\n",
       "      <td>[\"Une sensationnelle invention du professeur T...</td>\n",
       "      <td>18</td>\n",
       "    </tr>\n",
       "    <tr>\n",
       "      <th>19</th>\n",
       "      <td>Les aventures de Tintin, tome 21 : Les bijoux ...</td>\n",
       "      <td>[\"Lors d'une balade avec Tintin, le capitaine ...</td>\n",
       "      <td>19</td>\n",
       "    </tr>\n",
       "  </tbody>\n",
       "</table>\n",
       "</div>"
      ],
      "text/plain": [
       "                                                Titre  \\\n",
       "0   Les Aventures de Tintin, tome 03 : Tintin en A...   \n",
       "1   Les Aventures de Tintin, tome 11 : Le Secret d...   \n",
       "2   Les Aventures de Tintin, tome 17 : On a marché...   \n",
       "3   Les aventures de Tintin, Tome 6 : L'Oreille ca...   \n",
       "4    Les aventures de Tintin, tome 16 : Objectif lune   \n",
       "5   Les Aventures de Tintin, tome 12 : Le Trésor d...   \n",
       "6   Les Aventures de Tintin, tome 04 : Les Cigares...   \n",
       "7      Les Aventures de Tintin, tome 07 : L'Île Noire   \n",
       "8    Les Aventures de Tintin, tome 05 : Le Lotus bleu   \n",
       "9                 Astérix, tome 20 : Astérix en Corse   \n",
       "10               Astérix, tome 1 : Astérix le gaulois   \n",
       "11  Les aventures de Tintin, tome 22 : Vol 714 pou...   \n",
       "12   Les aventures de Tintin, tome 19 : Coke en stock   \n",
       "13             Astérix, tome 6 : Astérix et Cléopâtre   \n",
       "14  Les aventures de Tintin, tome 20 : Tintin au T...   \n",
       "15  Les Aventures de Tintin, tome 02 : Tintin au C...   \n",
       "16  Les Aventures de Tintin, tome 08 : Le Sceptre ...   \n",
       "17  Les Aventures de Tintin, tome 9 : Le Crabe aux...   \n",
       "18  Les aventures de Tintin, tome 18 : L'Affaire T...   \n",
       "19  Les aventures de Tintin, tome 21 : Les bijoux ...   \n",
       "\n",
       "                                               Resume  index  \n",
       "0   ['Dans \"Tintin en Amérique\" (1932), le héros c...      0  \n",
       "1   [\"Dans cette aventure, Tintin accompagne le Ca...      1  \n",
       "2   ['La fusée a décollé de Syldavie, emportant Ti...      2  \n",
       "3   [\"Afin de récupérer un fétiche volé, Tintin s'...      3  \n",
       "4   ['De retour de voyage, Tintin et le capitaine ...      4  \n",
       "5   ['Dans Le Secret de la Licorne (1943) et Le Tr...      5  \n",
       "6   [\"Alors qu'il est en croisière sur un paquebot...      6  \n",
       "7   ['Un mystérieux avion met Tintin, pour la prem...      7  \n",
       "8   [\"Poursuivant jusqu'en Chine les trafiquants r...      8  \n",
       "9   [\"Nous sommes en 50 avant Jésus-Christ ; toute...      9  \n",
       "10  ['Premier tome des aventures d\\'Astérix, l\\'al...     10  \n",
       "11  [\"Dans cette nouvelle aventure, nous retrouvon...     11  \n",
       "12  [\"Dans l'album Coke en stock (1958), le lecteu...     12  \n",
       "13  [\"Nous sommes en 50 avant Jésus-Christ ; toute...     13  \n",
       "14  [\"En vacances dans les Alpes, Tintin reçoit un...     14  \n",
       "15  ['Le 10 janvier 1929, un jeune reporter fait s...     15  \n",
       "16  ['Tintin accompagne en Syldavie le professeur ...     16  \n",
       "17  ['\"Le Crabe aux pinces d\\'or\" (1941) renoue av...     17  \n",
       "18  [\"Une sensationnelle invention du professeur T...     18  \n",
       "19  [\"Lors d'une balade avec Tintin, le capitaine ...     19  "
      ]
     },
     "execution_count": 21,
     "metadata": {},
     "output_type": "execute_result"
    }
   ],
   "source": [
    "df.head(20)"
   ]
  },
  {
   "cell_type": "code",
   "execution_count": 22,
   "id": "f76c9c30-eed6-48c2-b0fd-f1395fa5eb08",
   "metadata": {},
   "outputs": [],
   "source": [
    "from sentence_transformers import SentenceTransformer\n",
    "bert = SentenceTransformer('bert-base-nli-mean-tokens')"
   ]
  },
  {
   "cell_type": "code",
   "execution_count": 23,
   "id": "ca0ac3bd-b24e-4b73-8f18-ab223b42b57d",
   "metadata": {},
   "outputs": [],
   "source": [
    "def decoupage(df,nbligne):\n",
    "    ### df: Le Dataframe a découpé, nbligne: le nombre de ligne par document\n",
    "    longueur_df=len(df)\n",
    "    # Calcul du nombre de fichiers nécessaire\n",
    "    nb_fichier=int(len(df)/nbligne) # Nombre de fichier avec nbligne\n",
    "    reste= len(df)%nbligne # Et un document evec reste ligne\n",
    "    idx=0\n",
    "    while idx < nb_fichier:\n",
    "        dftmp=df[idx*nbligne:(idx+1)*nbligne]\n",
    "        dftmp.to_csv(\"CSV_TMP/RESUME/df\"+\"0\"*(len(str(nb_fichier))-len(str(idx)))+str(idx)+\".csv\", sep=\"\\t\")\n",
    "        idx+=1\n",
    "    if reste!=0:\n",
    "        dftmp=df[:-reste]\n",
    "        dftmp.to_csv(\"CSV_TMP/RESUME/df\"+str(idx)+\".csv\", sep=\"\\t\")\n",
    "        \n",
    "    return nb_fichier, reste"
   ]
  },
  {
   "cell_type": "code",
   "execution_count": 24,
   "id": "49a917cd-e33a-43ca-8a6e-49ccde7e5316",
   "metadata": {},
   "outputs": [
    {
     "name": "stdout",
     "output_type": "stream",
     "text": [
      "(11084, 0)\n"
     ]
    }
   ],
   "source": [
    "print(decoupage(df,1))"
   ]
  },
  {
   "cell_type": "code",
   "execution_count": 25,
   "id": "7394c568-d9dd-43f0-a9cc-fe0ab96d97ec",
   "metadata": {},
   "outputs": [],
   "source": [
    "from os import listdir\n",
    "path_to_dir=\"CSV_TMP/RESUME/\"\n",
    "def find_csv_filenames( path_to_dir, suffix=\".csv\" ):\n",
    "    filenames = listdir(path_to_dir)\n",
    "    return sorted([ filename for filename in filenames if filename.endswith( suffix ) ])"
   ]
  },
  {
   "cell_type": "code",
   "execution_count": 26,
   "id": "4f4dcf22-6d1c-465b-8d04-6547ae83e6f6",
   "metadata": {},
   "outputs": [],
   "source": [
    "ListeCSVTEMP=find_csv_filenames(\"CSV_TMP/RESUME/\")"
   ]
  },
  {
   "cell_type": "code",
   "execution_count": 68,
   "id": "195cb919-bf95-436e-93e5-dba1622f51eb",
   "metadata": {},
   "outputs": [],
   "source": [
    "def faireNLP(repertoire):\n",
    "    ListeCSVTEMP=find_csv_filenames(repertoire)\n",
    "    nb_fichier_traite=1\n",
    "    for fichier in ListeCSVTEMP:\n",
    "        dftmp=pd.read_csv(repertoire+fichier, sep='\\t',dtype='object')\n",
    "        dftmp['NLP']=[bert.encode(dftmp['Resume'].tolist())] \n",
    "        dftmp['NLP']=replace(dftmp['NLP'])\n",
    "        if (nb_fichier_traite==0) or (nb_fichier_traite%10==0):\n",
    "            print(\"Traitement de \",str((nb_fichier_traite/len(ListeCSVTEMP))*100), \" %.\")\n",
    "        nb_fichier_traite+=1\n",
    "        dftmp.to_csv(repertoire+fichier, sep='\\t')"
   ]
  },
  {
   "cell_type": "code",
   "execution_count": 69,
   "id": "e264c1ac-d456-4248-bb40-4bf4f5a45592",
   "metadata": {
    "tags": []
   },
   "outputs": [
    {
     "name": "stdout",
     "output_type": "stream",
     "text": [
      "Traitement de  16.39344262295082  %.\n",
      "Traitement de  32.78688524590164  %.\n",
      "Traitement de  49.18032786885246  %.\n",
      "Traitement de  65.57377049180327  %.\n",
      "Traitement de  81.9672131147541  %.\n",
      "Traitement de  98.36065573770492  %.\n"
     ]
    }
   ],
   "source": [
    "faireNLP(\"CSV_TMP/RESUME/\")"
   ]
  },
  {
   "cell_type": "code",
   "execution_count": 79,
   "id": "48a99e8b-96d3-4750-9d38-f5ecced08ee3",
   "metadata": {},
   "outputs": [
    {
     "data": {
      "text/html": [
       "<div>\n",
       "<style scoped>\n",
       "    .dataframe tbody tr th:only-of-type {\n",
       "        vertical-align: middle;\n",
       "    }\n",
       "\n",
       "    .dataframe tbody tr th {\n",
       "        vertical-align: top;\n",
       "    }\n",
       "\n",
       "    .dataframe thead th {\n",
       "        text-align: right;\n",
       "    }\n",
       "</style>\n",
       "<table border=\"1\" class=\"dataframe\">\n",
       "  <thead>\n",
       "    <tr style=\"text-align: right;\">\n",
       "      <th></th>\n",
       "      <th>NLP</th>\n",
       "    </tr>\n",
       "  </thead>\n",
       "  <tbody>\n",
       "    <tr>\n",
       "      <th>0</th>\n",
       "      <td>[[-7.64782906e-01  8.15230131e-01  5.14360249e...</td>\n",
       "    </tr>\n",
       "  </tbody>\n",
       "</table>\n",
       "</div>"
      ],
      "text/plain": [
       "                                                 NLP\n",
       "0  [[-7.64782906e-01  8.15230131e-01  5.14360249e..."
      ]
     },
     "execution_count": 79,
     "metadata": {},
     "output_type": "execute_result"
    }
   ],
   "source": [
    "df=pd.read_csv('CSV_TMP/RESUME/df00001.csv',sep='\\t',usecols=[7])\n",
    "df.head(1)\n"
   ]
  },
  {
   "cell_type": "code",
   "execution_count": 89,
   "id": "2be4a92e-b6da-4812-809e-fdb552572e96",
   "metadata": {},
   "outputs": [],
   "source": [
    "dftmp=[]\n",
    "def prepare_liste(repertoire):\n",
    "    ListeCSVTEMP=find_csv_filenames(repertoire)\n",
    "    for fichier in ListeCSVTEMP:\n",
    "          [dftmp[\"NLP\"] for filename in pd.read_csv(repertoire+fichier, sep='\\t',usecols = [5])]\n",
    "    return dftmp"
   ]
  },
  {
   "cell_type": "code",
   "execution_count": 88,
   "id": "97820d6c-2b12-4ac2-96ab-9999cc58b459",
   "metadata": {},
   "outputs": [
    {
     "ename": "TypeError",
     "evalue": "list indices must be integers or slices, not str",
     "output_type": "error",
     "traceback": [
      "\u001b[0;31m---------------------------------------------------------------------------\u001b[0m",
      "\u001b[0;31mTypeError\u001b[0m                                 Traceback (most recent call last)",
      "\u001b[0;32m<ipython-input-88-13a45b93a08b>\u001b[0m in \u001b[0;36m<module>\u001b[0;34m\u001b[0m\n\u001b[0;32m----> 1\u001b[0;31m \u001b[0msimilarity\u001b[0m \u001b[0;34m=\u001b[0m\u001b[0mcosine_similarity\u001b[0m\u001b[0;34m(\u001b[0m\u001b[0mprepare_liste\u001b[0m\u001b[0;34m(\u001b[0m\u001b[0;34m\"CSV_TMP/RESUME/\"\u001b[0m\u001b[0;34m)\u001b[0m\u001b[0;34m)\u001b[0m\u001b[0;34m\u001b[0m\u001b[0;34m\u001b[0m\u001b[0m\n\u001b[0m",
      "\u001b[0;32m<ipython-input-87-d96c9af3727d>\u001b[0m in \u001b[0;36mprepare_liste\u001b[0;34m(repertoire)\u001b[0m\n\u001b[1;32m      3\u001b[0m     \u001b[0mListeCSVTEMP\u001b[0m\u001b[0;34m=\u001b[0m\u001b[0mfind_csv_filenames\u001b[0m\u001b[0;34m(\u001b[0m\u001b[0mrepertoire\u001b[0m\u001b[0;34m)\u001b[0m\u001b[0;34m\u001b[0m\u001b[0;34m\u001b[0m\u001b[0m\n\u001b[1;32m      4\u001b[0m     \u001b[0;32mfor\u001b[0m \u001b[0mfichier\u001b[0m \u001b[0;32min\u001b[0m \u001b[0mListeCSVTEMP\u001b[0m\u001b[0;34m:\u001b[0m\u001b[0;34m\u001b[0m\u001b[0;34m\u001b[0m\u001b[0m\n\u001b[0;32m----> 5\u001b[0;31m           \u001b[0;34m[\u001b[0m\u001b[0;34m[\u001b[0m\u001b[0mdftmp\u001b[0m\u001b[0;34m[\u001b[0m\u001b[0;34m\"NLP\"\u001b[0m\u001b[0;34m]\u001b[0m\u001b[0;34m]\u001b[0m \u001b[0;32mfor\u001b[0m \u001b[0mfilename\u001b[0m \u001b[0;32min\u001b[0m \u001b[0mpd\u001b[0m\u001b[0;34m.\u001b[0m\u001b[0mread_csv\u001b[0m\u001b[0;34m(\u001b[0m\u001b[0mrepertoire\u001b[0m\u001b[0;34m+\u001b[0m\u001b[0mfichier\u001b[0m\u001b[0;34m,\u001b[0m \u001b[0msep\u001b[0m\u001b[0;34m=\u001b[0m\u001b[0;34m'\\t'\u001b[0m\u001b[0;34m,\u001b[0m\u001b[0musecols\u001b[0m \u001b[0;34m=\u001b[0m \u001b[0;34m[\u001b[0m\u001b[0;36m5\u001b[0m\u001b[0;34m]\u001b[0m\u001b[0;34m)\u001b[0m\u001b[0;34m]\u001b[0m\u001b[0;34m\u001b[0m\u001b[0;34m\u001b[0m\u001b[0m\n\u001b[0m\u001b[1;32m      6\u001b[0m     \u001b[0;32mreturn\u001b[0m \u001b[0mdftmp\u001b[0m\u001b[0;34m\u001b[0m\u001b[0;34m\u001b[0m\u001b[0m\n",
      "\u001b[0;32m<ipython-input-87-d96c9af3727d>\u001b[0m in \u001b[0;36m<listcomp>\u001b[0;34m(.0)\u001b[0m\n\u001b[1;32m      3\u001b[0m     \u001b[0mListeCSVTEMP\u001b[0m\u001b[0;34m=\u001b[0m\u001b[0mfind_csv_filenames\u001b[0m\u001b[0;34m(\u001b[0m\u001b[0mrepertoire\u001b[0m\u001b[0;34m)\u001b[0m\u001b[0;34m\u001b[0m\u001b[0;34m\u001b[0m\u001b[0m\n\u001b[1;32m      4\u001b[0m     \u001b[0;32mfor\u001b[0m \u001b[0mfichier\u001b[0m \u001b[0;32min\u001b[0m \u001b[0mListeCSVTEMP\u001b[0m\u001b[0;34m:\u001b[0m\u001b[0;34m\u001b[0m\u001b[0;34m\u001b[0m\u001b[0m\n\u001b[0;32m----> 5\u001b[0;31m           \u001b[0;34m[\u001b[0m\u001b[0;34m[\u001b[0m\u001b[0mdftmp\u001b[0m\u001b[0;34m[\u001b[0m\u001b[0;34m\"NLP\"\u001b[0m\u001b[0;34m]\u001b[0m\u001b[0;34m]\u001b[0m \u001b[0;32mfor\u001b[0m \u001b[0mfilename\u001b[0m \u001b[0;32min\u001b[0m \u001b[0mpd\u001b[0m\u001b[0;34m.\u001b[0m\u001b[0mread_csv\u001b[0m\u001b[0;34m(\u001b[0m\u001b[0mrepertoire\u001b[0m\u001b[0;34m+\u001b[0m\u001b[0mfichier\u001b[0m\u001b[0;34m,\u001b[0m \u001b[0msep\u001b[0m\u001b[0;34m=\u001b[0m\u001b[0;34m'\\t'\u001b[0m\u001b[0;34m,\u001b[0m\u001b[0musecols\u001b[0m \u001b[0;34m=\u001b[0m \u001b[0;34m[\u001b[0m\u001b[0;36m5\u001b[0m\u001b[0;34m]\u001b[0m\u001b[0;34m)\u001b[0m\u001b[0;34m]\u001b[0m\u001b[0;34m\u001b[0m\u001b[0;34m\u001b[0m\u001b[0m\n\u001b[0m\u001b[1;32m      6\u001b[0m     \u001b[0;32mreturn\u001b[0m \u001b[0mdftmp\u001b[0m\u001b[0;34m\u001b[0m\u001b[0;34m\u001b[0m\u001b[0m\n",
      "\u001b[0;31mTypeError\u001b[0m: list indices must be integers or slices, not str"
     ]
    }
   ],
   "source": [
    "similarity =cosine_similarity(prepare_liste(\"CSV_TMP/RESUME/\"))"
   ]
  },
  {
   "cell_type": "code",
   "execution_count": 13,
   "id": "48c09b3e-0674-475c-8bc2-2c2efe7d5b00",
   "metadata": {
    "tags": []
   },
   "outputs": [
    {
     "ename": "NameError",
     "evalue": "name 'fichier' is not defined",
     "output_type": "error",
     "traceback": [
      "\u001b[0;31m---------------------------------------------------------------------------\u001b[0m",
      "\u001b[0;31mNameError\u001b[0m                                 Traceback (most recent call last)",
      "\u001b[0;32m<ipython-input-13-d3f04a53848f>\u001b[0m in \u001b[0;36m<module>\u001b[0;34m\u001b[0m\n\u001b[0;32m----> 1\u001b[0;31m \u001b[0mLst4Similarity\u001b[0m\u001b[0;34m=\u001b[0m\u001b[0mprepare_liste\u001b[0m\u001b[0;34m(\u001b[0m\u001b[0;34m\"CSV_TMP/RESUME/\"\u001b[0m\u001b[0;34m)\u001b[0m\u001b[0;34m\u001b[0m\u001b[0;34m\u001b[0m\u001b[0m\n\u001b[0m",
      "\u001b[0;32m<ipython-input-9-1d2b13eb4d1f>\u001b[0m in \u001b[0;36mprepare_liste\u001b[0;34m(repertoire)\u001b[0m\n\u001b[1;32m      1\u001b[0m \u001b[0;32mdef\u001b[0m \u001b[0mprepare_liste\u001b[0m\u001b[0;34m(\u001b[0m\u001b[0mrepertoire\u001b[0m\u001b[0;34m)\u001b[0m\u001b[0;34m:\u001b[0m\u001b[0;34m\u001b[0m\u001b[0;34m\u001b[0m\u001b[0m\n\u001b[1;32m      2\u001b[0m     \u001b[0mListeCSVTEMP\u001b[0m\u001b[0;34m=\u001b[0m\u001b[0mfind_csv_filenames\u001b[0m\u001b[0;34m(\u001b[0m\u001b[0mrepertoire\u001b[0m\u001b[0;34m)\u001b[0m\u001b[0;34m\u001b[0m\u001b[0;34m\u001b[0m\u001b[0m\n\u001b[0;32m----> 3\u001b[0;31m     \u001b[0;32mreturn\u001b[0m \u001b[0;34m[\u001b[0m \u001b[0mdftmp\u001b[0m\u001b[0;34m[\u001b[0m\u001b[0;34m\"NLP\"\u001b[0m\u001b[0;34m]\u001b[0m \u001b[0;32mfor\u001b[0m \u001b[0mfilename\u001b[0m \u001b[0;32min\u001b[0m \u001b[0mpd\u001b[0m\u001b[0;34m.\u001b[0m\u001b[0mread_csv\u001b[0m\u001b[0;34m(\u001b[0m\u001b[0mrepertoire\u001b[0m\u001b[0;34m+\u001b[0m\u001b[0mfichier\u001b[0m\u001b[0;34m,\u001b[0m \u001b[0msep\u001b[0m\u001b[0;34m=\u001b[0m\u001b[0;34m'\\t'\u001b[0m\u001b[0;34m,\u001b[0m\u001b[0mdtype\u001b[0m\u001b[0;34m=\u001b[0m\u001b[0;34m'object'\u001b[0m\u001b[0;34m,\u001b[0m \u001b[0musecols\u001b[0m \u001b[0;34m=\u001b[0m \u001b[0;34m[\u001b[0m\u001b[0;36m5\u001b[0m\u001b[0;34m]\u001b[0m\u001b[0;34m)\u001b[0m\u001b[0;34m]\u001b[0m\u001b[0;34m\u001b[0m\u001b[0;34m\u001b[0m\u001b[0m\n\u001b[0m",
      "\u001b[0;31mNameError\u001b[0m: name 'fichier' is not defined"
     ]
    }
   ],
   "source": [
    "Lst4Similarity=prepare_liste(\"CSV_TMP/RESUME/\")"
   ]
  },
  {
   "cell_type": "code",
   "execution_count": null,
   "id": "d072560f-9574-4fbd-83ea-7b9fd5768cae",
   "metadata": {},
   "outputs": [],
   "source": []
  },
  {
   "cell_type": "code",
   "execution_count": 195,
   "id": "e6bd8861-fbd6-498e-bb1d-e0ba9dda3128",
   "metadata": {},
   "outputs": [
    {
     "name": "stdout",
     "output_type": "stream",
     "text": [
      "[0    [[-3.57037097e-01  6.74990356e-01  9.63729739e...\n",
      "Name: NLP, dtype: object]\n"
     ]
    }
   ],
   "source": [
    "print(Lst4Similarity)"
   ]
  },
  {
   "cell_type": "code",
   "execution_count": 196,
   "id": "0c948cea-7699-4135-a955-e4c04f612029",
   "metadata": {},
   "outputs": [
    {
     "name": "stdout",
     "output_type": "stream",
     "text": [
      "[0    [[-3.57037097e-01  6.74990356e-01  9.63729739e...\n",
      "Name: NLP, dtype: object]\n"
     ]
    }
   ],
   "source": [
    "print(Lst4Similarity)"
   ]
  },
  {
   "cell_type": "code",
   "execution_count": null,
   "id": "0ee68431-7a4c-44ec-8273-2e8e763e3878",
   "metadata": {},
   "outputs": [],
   "source": [
    "# Test en mode console\n",
    "notOver = True\n",
    "while(notOver):\n",
    "    user_bd = input(\"Enter le titre de la BD que vous aimez : \")\n",
    "# Generate Recommendations\n",
    "    recommendations = sorted(list(enumerate(similarity[get_index(user_bd)])), key = lambda x:x[1], reverse = True)\n",
    "    print(\"Les 3 recommandations que nous pouvons vous faire pour \" + user_bd +  \" sont: \")\n",
    "    print(get_title(recommendations[1][0]), get_title(recommendations[2][0]), get_title(recommendations[3][0]), sep = \"\\n\")\n",
    "    decision = input(\"Entrer '0' pour sortir et ce que vous voulez pour continuer\")\n",
    "    if(int(decision) == 0):\n",
    "        print(\"Bye\")\n",
    "        notOver = False"
   ]
  },
  {
   "cell_type": "code",
   "execution_count": null,
   "id": "a364c17f-ff75-4ca8-88bc-eaee635326dd",
   "metadata": {},
   "outputs": [],
   "source": []
  }
 ],
 "metadata": {
  "kernelspec": {
   "display_name": "Python 3",
   "language": "python",
   "name": "python3"
  },
  "language_info": {
   "codemirror_mode": {
    "name": "ipython",
    "version": 3
   },
   "file_extension": ".py",
   "mimetype": "text/x-python",
   "name": "python",
   "nbconvert_exporter": "python",
   "pygments_lexer": "ipython3",
   "version": "3.7.10"
  }
 },
 "nbformat": 4,
 "nbformat_minor": 5
}
