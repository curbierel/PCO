{
 "cells": [
  {
   "cell_type": "code",
   "execution_count": 6,
   "id": "5a91f1fc",
   "metadata": {},
   "outputs": [],
   "source": [
    "import pandas as pd\n",
    "from os import listdir\n",
    "from os.path import isfile, join\n",
    "import numpy as np\n",
    "from skimage import io\n",
    "from skimage.transform import rescale"
   ]
  },
  {
   "cell_type": "markdown",
   "id": "becf9ceb",
   "metadata": {},
   "source": [
    "___"
   ]
  },
  {
   "cell_type": "markdown",
   "id": "cc8d194c",
   "metadata": {},
   "source": [
    "### <center> GESTION DES IMAGES POUR QU'ON PUISSE LES UTILISER DANS LE GAN </center>"
   ]
  },
  {
   "cell_type": "code",
   "execution_count": null,
   "id": "d7c341b0",
   "metadata": {},
   "outputs": [],
   "source": [
    "PathFichiers=\"dataJPEG/1Bulle/\"\n",
    "PathFichiersNB=\"dataJPEGNB/1Bulle/\" \n",
    "PathSaveData=\"dataSAV/\""
   ]
  },
  {
   "cell_type": "code",
   "execution_count": 10,
   "id": "f91329a3-9a97-4c48-9d04-12361de94944",
   "metadata": {},
   "outputs": [],
   "source": [
    "import warnings\n",
    "warnings.filterwarnings(\"ignore\")"
   ]
  },
  {
   "cell_type": "markdown",
   "id": "308ac8fc-920f-4aea-8e20-c96dd9542dcb",
   "metadata": {
    "tags": []
   },
   "source": [
    "### <center>Génére des images en NB qui sont moins lourdes</center>"
   ]
  },
  {
   "cell_type": "code",
   "execution_count": null,
   "id": "b1093b67",
   "metadata": {},
   "outputs": [],
   "source": [
    "# On crée un dataset avec les images en nb avec une bulle\n",
    "def ResizedenNB(Path,PathNB):\n",
    "    fichiers = [f for f in listdir(Path) if isfile(join(Path, f))]\n",
    "    for fichier in fichiers:\n",
    "        img = io.imread(Path+fichier, as_gray=True)\n",
    "        img= rescale(img, 0.25, anti_aliasing=True)\n",
    "        img= img[120:340,50:364]\n",
    "        io.imsave(PathNB+fichier, img)"
   ]
  },
  {
   "cell_type": "code",
   "execution_count": null,
   "id": "da06d0b3-1cb2-4a08-bcf4-cd5210b39864",
   "metadata": {
    "tags": []
   },
   "outputs": [],
   "source": [
    "# Sauveagrde des données dans le format voules\n",
    "ResizedenNB(PathFichiers,PathFichiersNB)"
   ]
  },
  {
   "cell_type": "markdown",
   "id": "45756bb1-e32a-4f4f-bd48-8fcf6ef19c11",
   "metadata": {},
   "source": [
    "___"
   ]
  },
  {
   "cell_type": "markdown",
   "id": "432b05d7-5209-460a-abe7-02b124e6f368",
   "metadata": {},
   "source": [
    "### <center>CREATION DU DATASET</center>"
   ]
  },
  {
   "cell_type": "code",
   "execution_count": 1,
   "id": "773ec9a6-60a9-4dd3-a88e-9825a5db0502",
   "metadata": {},
   "outputs": [
    {
     "name": "stderr",
     "output_type": "stream",
     "text": [
      "Using TensorFlow backend.\n"
     ]
    }
   ],
   "source": [
    "# load, split and scale the maps dataset ready for training\n",
    "from os import listdir\n",
    "from numpy import asarray\n",
    "from numpy import vstack\n",
    "from keras.preprocessing.image import img_to_array\n",
    "from keras.preprocessing.image import load_img\n",
    "from numpy import savez_compressed"
   ]
  },
  {
   "cell_type": "code",
   "execution_count": 12,
   "id": "be3e28f6-6020-477d-80d3-342233a08523",
   "metadata": {},
   "outputs": [],
   "source": [
    "def load_images(path, size=(314,220)):\n",
    "    src_list = list()\n",
    "    # enumerate filenames in directory, assume all are images\n",
    "    for filename in listdir(path):\n",
    "        # load and resize the image\n",
    "        pixels = load_img(path + filename, target_size=size)\n",
    "        # convert to numpy array\n",
    "        src_list.append(pixels)\n",
    "    return [np.array(src_list)]"
   ]
  },
  {
   "cell_type": "code",
   "execution_count": 13,
   "id": "1ae2abf5-34db-4cf5-a34f-eb52913b6757",
   "metadata": {},
   "outputs": [
    {
     "name": "stdout",
     "output_type": "stream",
     "text": [
      "Loaded:  (353,)\n",
      "Saved dataset:  dataSAV/SimonCat_01B_NB.npz\n"
     ]
    }
   ],
   "source": [
    "# dataset path\n",
    "path = 'datajpegNB/1Bulle/'\n",
    "# load dataset\n",
    "[src_images] = load_images(path)\n",
    "print('Loaded: ', src_images.shape)\n",
    "# save as compressed numpy array\n",
    "filename = 'dataSAV/SimonCat_01B_NB.npz'\n",
    "savez_compressed(filename, src_images)\n",
    "print('Saved dataset: ', filename)"
   ]
  },
  {
   "cell_type": "code",
   "execution_count": null,
   "id": "619826d9-86fb-43f7-b73e-06c1559e057c",
   "metadata": {},
   "outputs": [],
   "source": []
  },
  {
   "cell_type": "code",
   "execution_count": null,
   "id": "ebeb6b74-5745-4ab7-8d92-9b99067ba089",
   "metadata": {},
   "outputs": [],
   "source": []
  }
 ],
 "metadata": {
  "kernelspec": {
   "display_name": "Python 3",
   "language": "python",
   "name": "python3"
  },
  "language_info": {
   "codemirror_mode": {
    "name": "ipython",
    "version": 3
   },
   "file_extension": ".py",
   "mimetype": "text/x-python",
   "name": "python",
   "nbconvert_exporter": "python",
   "pygments_lexer": "ipython3",
   "version": "3.7.10"
  }
 },
 "nbformat": 4,
 "nbformat_minor": 5
}
