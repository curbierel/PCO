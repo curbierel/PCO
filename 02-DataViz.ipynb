{
 "cells": [
  {
   "cell_type": "markdown",
   "id": "557b20ba-2194-4625-ad52-0e2f02af7966",
   "metadata": {},
   "source": [
    "___"
   ]
  },
  {
   "cell_type": "code",
   "execution_count": 1,
   "id": "91fc88dd-e85c-4d2f-8971-18107b48eaa0",
   "metadata": {},
   "outputs": [],
   "source": [
    "import seaborn as sns\n",
    "import pandas as pd\n",
    "import matplotlib.pyplot as plt\n",
    "from os import listdir\n",
    "from os.path import isfile, join\n",
    "from scipy import misc"
   ]
  },
  {
   "cell_type": "code",
   "execution_count": 8,
   "id": "a45294d4-67ee-4237-b76b-55d4a705dbf2",
   "metadata": {
    "tags": []
   },
   "outputs": [],
   "source": [
    "# On fait la même chose pour les strip\n",
    "# les BD en 1 bulle (1ére partie du projet)\n",
    "bulle=[]\n",
    "NBBulles=[1,2,3,4,5,6,9,11,12,16]\n",
    "for nbbulle in NBBulles:\n",
    "    if nbbulle==1:\n",
    "            PathFichiers=\"dataJPEG/\"+str(nbbulle)+\"bulle/\"\n",
    "    else :\n",
    "        PathFichiers=\"dataJPEG/\"+str(nbbulle)+\"bulles/\"   \n",
    "    fichiers = [f for f in listdir(PathFichiers) if isfile(join(PathFichiers, f))]\n",
    "    for fichier in fichiers:\n",
    "        iMg = plt.imread(PathFichiers+fichier).shape\n",
    "        bulle.append([nbbulle,str(PathFichiers+fichier),0,1,iMg[0],iMg[1]])\n",
    "    dfbulle=pd.DataFrame(bulle,columns=['NB_Bulle','liens','Couleurs','NB','Hauteur','Largeur'])\n",
    "#print(dfbulle)"
   ]
  },
  {
   "cell_type": "code",
   "execution_count": 51,
   "id": "5083782b-22a4-4c61-9e72-3329d03153cf",
   "metadata": {},
   "outputs": [
    {
     "data": {
      "text/plain": [
       "<AxesSubplot:ylabel='NB_Bulle'>"
      ]
     },
     "execution_count": 51,
     "metadata": {},
     "output_type": "execute_result"
    },
    {
     "data": {
      "image/png": "[encoded data removed]",
      "text/plain": [
       "<Figure size 432x288 with 1 Axes>"
      ]
     },
     "metadata": {},
     "output_type": "display_data"
    }
   ],
   "source": [
    "# Représentation des strip par nombre de bulles\n",
    "dfbulle[\"NB_Bulle\"].value_counts(normalize=True).plot(kind='pie')"
   ]
  },
  {
   "cell_type": "code",
   "execution_count": 7,
   "id": "7093e41e-fb62-47a5-898a-c0184b03ff57",
   "metadata": {},
   "outputs": [
    {
     "data": {
      "text/html": [
       "<div>\n",
       "<style scoped>\n",
       "    .dataframe tbody tr th:only-of-type {\n",
       "        vertical-align: middle;\n",
       "    }\n",
       "\n",
       "    .dataframe tbody tr th {\n",
       "        vertical-align: top;\n",
       "    }\n",
       "\n",
       "    .dataframe thead th {\n",
       "        text-align: right;\n",
       "    }\n",
       "</style>\n",
       "<table border=\"1\" class=\"dataframe\">\n",
       "  <thead>\n",
       "    <tr style=\"text-align: right;\">\n",
       "      <th></th>\n",
       "      <th>NB_Bulle</th>\n",
       "      <th>liens</th>\n",
       "      <th>Couleurs</th>\n",
       "      <th>NB</th>\n",
       "      <th>Hauteur</th>\n",
       "      <th>Largeur</th>\n",
       "    </tr>\n",
       "  </thead>\n",
       "  <tbody>\n",
       "    <tr>\n",
       "      <th>0</th>\n",
       "      <td>1</td>\n",
       "      <td>dataJPEG/1bulle/page102.jpg</td>\n",
       "      <td>0</td>\n",
       "      <td>1</td>\n",
       "      <td>2339</td>\n",
       "      <td>1654</td>\n",
       "    </tr>\n",
       "    <tr>\n",
       "      <th>1</th>\n",
       "      <td>1</td>\n",
       "      <td>dataJPEG/1bulle/page1033.jpg</td>\n",
       "      <td>0</td>\n",
       "      <td>1</td>\n",
       "      <td>2339</td>\n",
       "      <td>1654</td>\n",
       "    </tr>\n",
       "    <tr>\n",
       "      <th>2</th>\n",
       "      <td>1</td>\n",
       "      <td>dataJPEG/1bulle/page104.jpg</td>\n",
       "      <td>0</td>\n",
       "      <td>1</td>\n",
       "      <td>2339</td>\n",
       "      <td>1654</td>\n",
       "    </tr>\n",
       "    <tr>\n",
       "      <th>3</th>\n",
       "      <td>1</td>\n",
       "      <td>dataJPEG/1bulle/page112.jpg</td>\n",
       "      <td>0</td>\n",
       "      <td>1</td>\n",
       "      <td>2339</td>\n",
       "      <td>1654</td>\n",
       "    </tr>\n",
       "    <tr>\n",
       "      <th>4</th>\n",
       "      <td>1</td>\n",
       "      <td>dataJPEG/1bulle/page12.jpg</td>\n",
       "      <td>0</td>\n",
       "      <td>1</td>\n",
       "      <td>2339</td>\n",
       "      <td>1654</td>\n",
       "    </tr>\n",
       "    <tr>\n",
       "      <th>5</th>\n",
       "      <td>1</td>\n",
       "      <td>dataJPEG/1bulle/page120.jpg</td>\n",
       "      <td>0</td>\n",
       "      <td>1</td>\n",
       "      <td>2339</td>\n",
       "      <td>1654</td>\n",
       "    </tr>\n",
       "    <tr>\n",
       "      <th>6</th>\n",
       "      <td>1</td>\n",
       "      <td>dataJPEG/1bulle/page122.jpg</td>\n",
       "      <td>0</td>\n",
       "      <td>1</td>\n",
       "      <td>2339</td>\n",
       "      <td>1654</td>\n",
       "    </tr>\n",
       "    <tr>\n",
       "      <th>7</th>\n",
       "      <td>1</td>\n",
       "      <td>dataJPEG/1bulle/page124.jpg</td>\n",
       "      <td>0</td>\n",
       "      <td>1</td>\n",
       "      <td>2339</td>\n",
       "      <td>1654</td>\n",
       "    </tr>\n",
       "    <tr>\n",
       "      <th>8</th>\n",
       "      <td>1</td>\n",
       "      <td>dataJPEG/1bulle/page132.jpg</td>\n",
       "      <td>0</td>\n",
       "      <td>1</td>\n",
       "      <td>2339</td>\n",
       "      <td>1654</td>\n",
       "    </tr>\n",
       "    <tr>\n",
       "      <th>9</th>\n",
       "      <td>1</td>\n",
       "      <td>dataJPEG/1bulle/page134.jpg</td>\n",
       "      <td>0</td>\n",
       "      <td>1</td>\n",
       "      <td>2339</td>\n",
       "      <td>1654</td>\n",
       "    </tr>\n",
       "  </tbody>\n",
       "</table>\n",
       "</div>"
      ],
      "text/plain": [
       "   NB_Bulle                         liens  Couleurs  NB  Hauteur  Largeur\n",
       "0         1   dataJPEG/1bulle/page102.jpg         0   1     2339     1654\n",
       "1         1  dataJPEG/1bulle/page1033.jpg         0   1     2339     1654\n",
       "2         1   dataJPEG/1bulle/page104.jpg         0   1     2339     1654\n",
       "3         1   dataJPEG/1bulle/page112.jpg         0   1     2339     1654\n",
       "4         1    dataJPEG/1bulle/page12.jpg         0   1     2339     1654\n",
       "5         1   dataJPEG/1bulle/page120.jpg         0   1     2339     1654\n",
       "6         1   dataJPEG/1bulle/page122.jpg         0   1     2339     1654\n",
       "7         1   dataJPEG/1bulle/page124.jpg         0   1     2339     1654\n",
       "8         1   dataJPEG/1bulle/page132.jpg         0   1     2339     1654\n",
       "9         1   dataJPEG/1bulle/page134.jpg         0   1     2339     1654"
      ]
     },
     "execution_count": 7,
     "metadata": {},
     "output_type": "execute_result"
    }
   ],
   "source": [
    "dfbulle.head(10)"
   ]
  },
  {
   "cell_type": "raw",
   "id": "0a03db9b-4203-48d0-8e8e-135c0e415939",
   "metadata": {},
   "source": [
    "Toutes les images sont la même taille, ce qui est nécessaire pour utiliser un modèle"
   ]
  }
 ],
 "metadata": {
  "kernelspec": {
   "display_name": "Python 3",
   "language": "python",
   "name": "python3"
  },
  "language_info": {
   "codemirror_mode": {
    "name": "ipython",
    "version": 3
   },
   "file_extension": ".py",
   "mimetype": "text/x-python",
   "name": "python",
   "nbconvert_exporter": "python",
   "pygments_lexer": "ipython3",
   "version": "3.7.10"
  }
 },
 "nbformat": 4,
 "nbformat_minor": 5
}
